{
  "nbformat": 4,
  "nbformat_minor": 0,
  "metadata": {
    "colab": {
      "provenance": [],
      "authorship_tag": "ABX9TyNy62XyG114EeNUwBTLlPIV",
      "include_colab_link": true
    },
    "kernelspec": {
      "name": "python3",
      "display_name": "Python 3"
    },
    "language_info": {
      "name": "python"
    }
  },
  "cells": [
    {
      "cell_type": "markdown",
      "metadata": {
        "id": "view-in-github",
        "colab_type": "text"
      },
      "source": [
        "<a href=\"https://colab.research.google.com/github/mitchelllierman/kurt/blob/master/kurt.ipynb\" target=\"_parent\"><img src=\"https://colab.research.google.com/assets/colab-badge.svg\" alt=\"Open In Colab\"/></a>"
      ]
    },
    {
      "cell_type": "code",
      "source": [
        "pip install tabula-py"
      ],
      "metadata": {
        "colab": {
          "base_uri": "https://localhost:8080/"
        },
        "id": "UcPHUIUP-LFX",
        "outputId": "fbb9b452-63d9-435b-f509-58aaf2d74aec"
      },
      "execution_count": 1,
      "outputs": [
        {
          "output_type": "stream",
          "name": "stdout",
          "text": [
            "Requirement already satisfied: tabula-py in /usr/local/lib/python3.10/dist-packages (2.9.0)\n",
            "Requirement already satisfied: pandas>=0.25.3 in /usr/local/lib/python3.10/dist-packages (from tabula-py) (1.5.3)\n",
            "Requirement already satisfied: numpy in /usr/local/lib/python3.10/dist-packages (from tabula-py) (1.25.2)\n",
            "Requirement already satisfied: distro in /usr/lib/python3/dist-packages (from tabula-py) (1.7.0)\n",
            "Requirement already satisfied: python-dateutil>=2.8.1 in /usr/local/lib/python3.10/dist-packages (from pandas>=0.25.3->tabula-py) (2.8.2)\n",
            "Requirement already satisfied: pytz>=2020.1 in /usr/local/lib/python3.10/dist-packages (from pandas>=0.25.3->tabula-py) (2023.4)\n",
            "Requirement already satisfied: six>=1.5 in /usr/local/lib/python3.10/dist-packages (from python-dateutil>=2.8.1->pandas>=0.25.3->tabula-py) (1.16.0)\n"
          ]
        }
      ]
    },
    {
      "cell_type": "code",
      "source": [
        "import tabula\n",
        "import pandas as pd\n",
        "from datetime import datetime\n",
        "from bs4 import BeautifulSoup\n",
        "import requests\n",
        "import re\n",
        "import os\n",
        "import zipfile\n",
        "from google.colab import files\n",
        "import shutil"
      ],
      "metadata": {
        "id": "imY4SP5wBTwZ"
      },
      "execution_count": 2,
      "outputs": []
    },
    {
      "cell_type": "code",
      "source": [
        "pdf_filename = \"IDEM pdf.pdf\"\n",
        "\n",
        "if os.path.exists(pdf_filename):\n",
        "    print(\"PDF file already exists in the current directory.\")\n",
        "else:\n",
        "    print(\"PDF file not found in the current directory.\")\n",
        "\n",
        "# Define the URL of the PDF file in the GitHub repo\n",
        "pdf_url = f\"https://raw.githubusercontent.com/your_username/your_repo/main/{pdf_filename}\"\n",
        "\n",
        "if not os.path.exists(pdf_filename):\n",
        "    # Create the directory if it doesn't exist\n",
        "    os.makedirs(\"data\", exist_ok=True)\n",
        "\n",
        "    # Download the PDF file from the GitHub repo\n",
        "    response = requests.get(pdf_url)\n",
        "\n",
        "    # Save the PDF file to the data directory\n",
        "    with open(os.path.join(\"data\", pdf_filename), \"wb\") as output_file:\n",
        "        output_file.write(response.content)\n",
        "\n",
        "    print(\"PDF file downloaded and saved to the data directory.\")"
      ],
      "metadata": {
        "colab": {
          "base_uri": "https://localhost:8080/"
        },
        "id": "zxtCkeDgY9FI",
        "outputId": "16827b89-be2a-435c-dad3-31357dc5cad8"
      },
      "execution_count": 3,
      "outputs": [
        {
          "output_type": "stream",
          "name": "stdout",
          "text": [
            "PDF file already exists in the current directory.\n"
          ]
        }
      ]
    },
    {
      "cell_type": "code",
      "execution_count": 4,
      "metadata": {
        "colab": {
          "base_uri": "https://localhost:8080/"
        },
        "id": "A3McktD99y9A",
        "outputId": "cf5dfd0e-6462-4dd3-8a14-d8f7a564f3e6"
      },
      "outputs": [
        {
          "output_type": "stream",
          "name": "stderr",
          "text": [
            "WARNING:tabula.backend:Error importing jpype dependencies. Fallback to subprocess.\n",
            "WARNING:tabula.backend:No module named 'jpype'\n"
          ]
        }
      ],
      "source": [
        "# Read the PDF and convert it to a CSV file\n",
        "tabula.convert_into(\"IDEM pdf.pdf\", \"output.csv\", output_format=\"csv\", pages='all')\n"
      ]
    },
    {
      "cell_type": "code",
      "source": [
        "# Read in the spreadsheet listing sites\n",
        "bf_data = pd.read_csv('output.csv')\n",
        "\n",
        "bf_data.rename(columns = {\n",
        "    \"BFD#\": \"BFD\"\n",
        "}, inplace=True)\n",
        "\n",
        "bf_city = []\n",
        "no_result = \"\"\n",
        "while len(bf_city) == 0:\n",
        "  city_query = input(f'{no_result}What city would you like to find sites for? ').strip().capitalize()\n",
        "\n",
        "  # Read in Brownfield sites by their ID number\n",
        "  bf_city = bf_data[bf_data['City'] == city_query]\n",
        "  if len(bf_city) == 0:\n",
        "    no_result = f\"{city_query} returned no results.\"\n",
        "  else:\n",
        "    print(f\"{city_query} returned {len(bf_city)} results.\")\n",
        "\n"
      ],
      "metadata": {
        "colab": {
          "base_uri": "https://localhost:8080/"
        },
        "id": "A9i6FfKyHlVC",
        "outputId": "d382cba2-d35f-4e97-fa20-f9ac532e3df7"
      },
      "execution_count": 5,
      "outputs": [
        {
          "output_type": "stream",
          "name": "stdout",
          "text": [
            "What city would you like to find sites for? Berne\n",
            "Berne returned 2 results.\n"
          ]
        }
      ]
    },
    {
      "cell_type": "code",
      "source": [
        "\n",
        "def search_Id(id, count=100):  # Completed\n",
        "    cabinet_base = \"https://ecm.idem.in.gov/cs/\"\n",
        "    oracle_pls = \"idcplg?IdcService=GET_SEARCH_RESULTS&QueryText=\"\n",
        "    query = f\"%3cftx%3e{id}%3c%2fftx%3e\"\n",
        "    sort = \"&SortField=xProgram\"\n",
        "    order = \"&SortOrder=Desc\"\n",
        "    results = \"&ResultCount=100\"\n",
        "    id_search = cabinet_base + oracle_pls + query + sort + order + results\n",
        "    search_result = requests.get(id_search)\n",
        "\n",
        "    return search_result\n",
        "\n"
      ],
      "metadata": {
        "id": "hqfUszH7XIWS"
      },
      "execution_count": 6,
      "outputs": []
    },
    {
      "cell_type": "code",
      "source": [
        "\n",
        "def extract_Data(search_result):\n",
        "\n",
        "    extracted = {'link': [],\n",
        "                 'date': [],\n",
        "                 # YYYY_MM_DD -- requires PARSING\n",
        "                 'program': [],\n",
        "                 # Ex Brownfield\n",
        "                 'doctype': []}\n",
        "    # Ex Brownfield Completion Document\n",
        "\n",
        "    # Load the HTML content\n",
        "    soup = BeautifulSoup(search_result.text, 'html.parser')\n",
        "\n",
        "    # Find the table\n",
        "    table = soup.find('table', {'class': 'xuiListTable'})\n",
        "\n",
        "    if table is None:\n",
        "        return 1\n",
        "    header_check = 0\n",
        "    # Extract data from each row\n",
        "    for row in table.find_all('tr'):\n",
        "        cells = row.find_all('td')\n",
        "\n",
        "        if header_check == 0:\n",
        "            header_check += 1\n",
        "            continue\n",
        "\n",
        "        if len(cells) > 0:\n",
        "            # Assuming the first column contains links\n",
        "            loc = cells[0].find('a')['href']\n",
        "            extracted['link'].append(loc)\n",
        "            # Assuming the second column contains dates\n",
        "\n",
        "            date_object = datetime.strptime(cells[2].text.strip(), \"%m/%d/%Y\")\n",
        "            formatted_date = date_object.strftime(\"%Y_%m_%d\")\n",
        "\n",
        "            extracted['date'].append(formatted_date)\n",
        "            # Assuming the third column contains programs\n",
        "            extracted['program'].append(cells[4].text)\n",
        "            # Assuming the fourth column contains document types\n",
        "            extracted['doctype'].append(cells[6].text)\n",
        "    # Page Handling\n",
        "    return extracted\n",
        "\n"
      ],
      "metadata": {
        "id": "xvFUb5I4XLHK"
      },
      "execution_count": 7,
      "outputs": []
    },
    {
      "cell_type": "code",
      "source": [
        "\n",
        "def save_PDFs(site_name, extracted):\n",
        "    # Open Link\n",
        "    # Download or Save as PDF\n",
        "\n",
        "    for i, link in enumerate(extracted['link']):\n",
        "        print(link)\n",
        "        pdf = requests.get(link)\n",
        "        if pdf.status_code == 200:\n",
        "            date = extracted['date'][i]\n",
        "            program = extracted['program'][i]\n",
        "            doc = extracted['doctype'][i]\n",
        "\n",
        "            # Save the PDF\n",
        "            fname = f'{city_query}_sites/{site_name}/{date}_{site_name}_{program}_{doc}.pdf'\n",
        "\n",
        "            with open(fname, 'wb') as file:\n",
        "                file.write(pdf.content)\n",
        "        else:\n",
        "            print(f\"Failed to download PDF from {link}\")\n",
        "\n",
        "    # Implement saving pdf with this filename here:\n",
        "    # curl -o downloaded_file.pdf \"{fn[1]}\"\n",
        "    # While making PDF make a txt too?\n",
        "    # PDF miner\n",
        "\n"
      ],
      "metadata": {
        "id": "XrNXdYNfXM08"
      },
      "execution_count": 8,
      "outputs": []
    },
    {
      "cell_type": "code",
      "source": [
        "\n",
        "def kurt_Loop(bf_ids):\n",
        "    os.mkdir(f'{city_query}_sites')\n",
        "\n",
        "    extraction_errors = []\n",
        "    try:\n",
        "        for ind, id in enumerate(bf_ids[\"BFD\"]):\n",
        "            # Requests the data from IDEM digital file cabinet using requests\n",
        "            search_result = search_Id(id)\n",
        "\n",
        "            # Scrape the results pages.\n",
        "            extracted = extract_Data(search_result)\n",
        "            if extracted == 1:\n",
        "                extraction_errors.append(id)\n",
        "                continue\n",
        "            # Get PD frame with: # Link to PDF, Date of Doc, Program, Doc Type\n",
        "\n",
        "            # Needs to be processed with regex\n",
        "            site_name = re.sub(r\"[()<>:\\\"/\\\\|?&#*. ]\",  \"_\", bf_ids[\"Name\"].iloc[ind],)\n",
        "            site_name = re.sub(r\"\\n*\", \"\", site_name)\n",
        "\n",
        "            os.mkdir(f'{city_query}_sites/{site_name}')\n",
        "\n",
        "            save_PDFs(site_name, extracted)\n",
        "    finally:\n",
        "        print(\"The following IDs returned no results:\")\n",
        "        print(extraction_errors)\n",
        "        return(f'{city_query}_sites')\n"
      ],
      "metadata": {
        "id": "jnbx9qDwXOY4"
      },
      "execution_count": 9,
      "outputs": []
    },
    {
      "cell_type": "code",
      "source": [
        "\n",
        "docs = kurt_Loop(bf_city)\n"
      ],
      "metadata": {
        "colab": {
          "base_uri": "https://localhost:8080/"
        },
        "id": "9WTHbPVSXP0O",
        "outputId": "43af8e39-cb86-40c2-dd5f-96a923b94801"
      },
      "execution_count": 10,
      "outputs": [
        {
          "output_type": "stream",
          "name": "stdout",
          "text": [
            "https://ecm.idem.in.gov/cs/idcplg?IdcService=GET_FILE&dID=4030004&dDocName=63948516&Rendition=web&allowInterrupt=1&noSaveAs=1\n",
            "https://ecm.idem.in.gov/cs/idcplg?IdcService=GET_FILE&dID=2277396&dDocName=14838857&Rendition=web&allowInterrupt=1&noSaveAs=1\n",
            "https://ecm.idem.in.gov/cs/idcplg?IdcService=GET_FILE&dID=3187850&dDocName=49140173&Rendition=web&allowInterrupt=1&noSaveAs=1\n",
            "https://ecm.idem.in.gov/cs/idcplg?IdcService=GET_FILE&dID=2344768&dDocName=15431415&Rendition=web&allowInterrupt=1&noSaveAs=1\n",
            "https://ecm.idem.in.gov/cs/idcplg?IdcService=GET_FILE&dID=3210499&dDocName=49140459&Rendition=web&allowInterrupt=1&noSaveAs=1\n",
            "https://ecm.idem.in.gov/cs/idcplg?IdcService=GET_FILE&dID=3146480&dDocName=49140428&Rendition=web&allowInterrupt=1&noSaveAs=1\n",
            "https://ecm.idem.in.gov/cs/idcplg?IdcService=GET_FILE&dID=3175359&dDocName=49140437&Rendition=web&allowInterrupt=1&noSaveAs=1\n",
            "https://ecm.idem.in.gov/cs/idcplg?IdcService=GET_FILE&dID=3254126&dDocName=49140266&Rendition=web&allowInterrupt=1&noSaveAs=1\n",
            "https://ecm.idem.in.gov/cs/idcplg?IdcService=GET_FILE&dID=2375488&dDocName=14839249&Rendition=web&allowInterrupt=1&noSaveAs=1\n",
            "https://ecm.idem.in.gov/cs/idcplg?IdcService=GET_FILE&dID=2293967&dDocName=15069141&Rendition=web&allowInterrupt=1&noSaveAs=1\n",
            "https://ecm.idem.in.gov/cs/idcplg?IdcService=GET_FILE&dID=2621980&dDocName=14615311&Rendition=web&allowInterrupt=1&noSaveAs=1\n",
            "https://ecm.idem.in.gov/cs/idcplg?IdcService=GET_FILE&dID=3210544&dDocName=49140461&Rendition=web&allowInterrupt=1&noSaveAs=1\n",
            "https://ecm.idem.in.gov/cs/idcplg?IdcService=GET_FILE&dID=3312521&dDocName=49140457&Rendition=web&allowInterrupt=1&noSaveAs=1\n",
            "https://ecm.idem.in.gov/cs/idcplg?IdcService=GET_FILE&dID=3210545&dDocName=49140467&Rendition=web&allowInterrupt=1&noSaveAs=1\n",
            "https://ecm.idem.in.gov/cs/idcplg?IdcService=GET_FILE&dID=2783609&dDocName=18192199&Rendition=web&allowInterrupt=1&noSaveAs=1\n",
            "https://ecm.idem.in.gov/cs/idcplg?IdcService=GET_FILE&dID=3160912&dDocName=49140452&Rendition=web&allowInterrupt=1&noSaveAs=1\n",
            "https://ecm.idem.in.gov/cs/idcplg?IdcService=GET_FILE&dID=3297877&dDocName=49140463&Rendition=web&allowInterrupt=1&noSaveAs=1\n",
            "https://ecm.idem.in.gov/cs/idcplg?IdcService=GET_FILE&dID=3160910&dDocName=49140439&Rendition=web&allowInterrupt=1&noSaveAs=1\n",
            "https://ecm.idem.in.gov/cs/idcplg?IdcService=GET_FILE&dID=2420725&dDocName=14622189&Rendition=web&allowInterrupt=1&noSaveAs=1\n",
            "https://ecm.idem.in.gov/cs/idcplg?IdcService=GET_FILE&dID=3160911&dDocName=49140443&Rendition=web&allowInterrupt=1&noSaveAs=1\n",
            "https://ecm.idem.in.gov/cs/idcplg?IdcService=GET_FILE&dID=3132040&dDocName=49140469&Rendition=web&allowInterrupt=1&noSaveAs=1\n",
            "https://ecm.idem.in.gov/cs/idcplg?IdcService=GET_FILE&dID=2393259&dDocName=17972689&Rendition=web&allowInterrupt=1&noSaveAs=1\n",
            "https://ecm.idem.in.gov/cs/idcplg?IdcService=GET_FILE&dID=2625839&dDocName=14839003&Rendition=web&allowInterrupt=1&noSaveAs=1\n",
            "https://ecm.idem.in.gov/cs/idcplg?IdcService=GET_FILE&dID=2625835&dDocName=14838858&Rendition=web&allowInterrupt=1&noSaveAs=1\n",
            "https://ecm.idem.in.gov/cs/idcplg?IdcService=GET_FILE&dID=3312519&dDocName=49140007&Rendition=web&allowInterrupt=1&noSaveAs=1\n",
            "https://ecm.idem.in.gov/cs/idcplg?IdcService=GET_FILE&dID=2625837&dDocName=14838913&Rendition=web&allowInterrupt=1&noSaveAs=1\n",
            "https://ecm.idem.in.gov/cs/idcplg?IdcService=GET_FILE&dID=2487402&dDocName=14839076&Rendition=web&allowInterrupt=1&noSaveAs=1\n",
            "https://ecm.idem.in.gov/cs/idcplg?IdcService=GET_FILE&dID=4030047&dDocName=64317698&Rendition=web&allowInterrupt=1&noSaveAs=1\n",
            "https://ecm.idem.in.gov/cs/idcplg?IdcService=GET_FILE&dID=2549469&dDocName=14512731&Rendition=web&allowInterrupt=1&noSaveAs=1\n",
            "The following IDs returned no results:\n",
            "[]\n"
          ]
        }
      ]
    },
    {
      "cell_type": "code",
      "source": [
        "def zip_directory(directory_path, zip_file_path):\n",
        "    with zipfile.ZipFile(zip_file_path, 'w', zipfile.ZIP_DEFLATED) as zipf:\n",
        "        for root, dirs, files in os.walk(directory_path):\n",
        "            for file in files:\n",
        "                if file.endswith('.pdf'):\n",
        "                    # Create a relative path for files to maintain the directory structure\n",
        "                    relative_path = os.path.relpath(os.path.join(root, file), os.path.join(directory_path, '..'))\n",
        "                    zipf.write(os.path.join(root, file), arcname=relative_path)\n",
        "\n",
        "# Usage\n",
        "directory_to_zip = docs\n",
        "output_zip_file = f'{docs}.zip'\n",
        "zip_directory(directory_to_zip, output_zip_file)"
      ],
      "metadata": {
        "id": "0SXqmGBFVBjb"
      },
      "execution_count": 11,
      "outputs": []
    },
    {
      "cell_type": "code",
      "source": [
        "# Assuming you have already created a zip file named 'output.zip'\n",
        "zip_file = f'{docs}.zip'\n",
        "\n",
        "# Download the file to the user's local machine\n",
        "files.download(zip_file)"
      ],
      "metadata": {
        "colab": {
          "base_uri": "https://localhost:8080/",
          "height": 17
        },
        "id": "qxtkldGRV-do",
        "outputId": "44d87bdb-54d8-45aa-d1d4-32cb3e2c8b37"
      },
      "execution_count": 12,
      "outputs": [
        {
          "output_type": "display_data",
          "data": {
            "text/plain": [
              "<IPython.core.display.Javascript object>"
            ],
            "application/javascript": [
              "\n",
              "    async function download(id, filename, size) {\n",
              "      if (!google.colab.kernel.accessAllowed) {\n",
              "        return;\n",
              "      }\n",
              "      const div = document.createElement('div');\n",
              "      const label = document.createElement('label');\n",
              "      label.textContent = `Downloading \"${filename}\": `;\n",
              "      div.appendChild(label);\n",
              "      const progress = document.createElement('progress');\n",
              "      progress.max = size;\n",
              "      div.appendChild(progress);\n",
              "      document.body.appendChild(div);\n",
              "\n",
              "      const buffers = [];\n",
              "      let downloaded = 0;\n",
              "\n",
              "      const channel = await google.colab.kernel.comms.open(id);\n",
              "      // Send a message to notify the kernel that we're ready.\n",
              "      channel.send({})\n",
              "\n",
              "      for await (const message of channel.messages) {\n",
              "        // Send a message to notify the kernel that we're ready.\n",
              "        channel.send({})\n",
              "        if (message.buffers) {\n",
              "          for (const buffer of message.buffers) {\n",
              "            buffers.push(buffer);\n",
              "            downloaded += buffer.byteLength;\n",
              "            progress.value = downloaded;\n",
              "          }\n",
              "        }\n",
              "      }\n",
              "      const blob = new Blob(buffers, {type: 'application/binary'});\n",
              "      const a = document.createElement('a');\n",
              "      a.href = window.URL.createObjectURL(blob);\n",
              "      a.download = filename;\n",
              "      div.appendChild(a);\n",
              "      a.click();\n",
              "      div.remove();\n",
              "    }\n",
              "  "
            ]
          },
          "metadata": {}
        },
        {
          "output_type": "display_data",
          "data": {
            "text/plain": [
              "<IPython.core.display.Javascript object>"
            ],
            "application/javascript": [
              "download(\"download_6ebfc186-9ceb-4565-a02b-0fbf7951d3b2\", \"Berne_sites.zip\", 13382100)"
            ]
          },
          "metadata": {}
        }
      ]
    }
  ]
}